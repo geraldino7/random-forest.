{
 "cells": [
  {
   "cell_type": "markdown",
   "metadata": {},
   "source": [
    "# Random Forest Classifier Implementation in Python using SciKit Learn"
   ]
  },
  {
   "cell_type": "code",
   "execution_count": 1,
   "metadata": {},
   "outputs": [],
   "source": [
    "# load libaries\n",
    "from sklearn.ensemble import RandomForestClassifier\n",
    "from sklearn.model_selection import train_test_split\n",
    "from sklearn.metrics import confusion_matrix\n",
    "from sklearn.metrics import accuracy_score\n",
    "from sklearn import datasets\n",
    "import numpy as np\n",
    "from sklearn import preprocessing"
   ]
  },
  {
   "cell_type": "code",
   "execution_count": 2,
   "metadata": {},
   "outputs": [],
   "source": [
    "# load dataset\n",
    "# Sample Data - (Taste, Temperature, Texture,Eat)\n",
    "dataset = np.array([\n",
    "\t\t   ['Salty','Hot','Soft','No'],\n",
    "\t\t   ['Spicy','Hot','Soft','No'],\n",
    "\t\t   ['Spicy','Hot','Hard','Yes'],\n",
    "\t\t   ['Spicy','Cold','Hard','No'],\n",
    "\t\t   ['Spicy','Hot','Hard','Yes'],\n",
    "\t\t   ['Sweet','Cold','Soft','Yes'],\n",
    "\t\t   ['Salty','Cold','Soft','No'],\n",
    "\t\t   ['Sweet','Hot','Soft','Yes'],\n",
    "\t\t   ['Spicy','Cold','Soft','Yes'],\n",
    "\t\t   ['Salty','Hot','Hard','Yes'],\n",
    "\t\t   ])"
   ]
  },
  {
   "cell_type": "code",
   "execution_count": 3,
   "metadata": {},
   "outputs": [],
   "source": [
    "# We need to convert categorical data into numerical data for process.\n",
    "enc = preprocessing.OrdinalEncoder()\n",
    "enc.fit(dataset)\n",
    "data = enc.transform(dataset)\n"
   ]
  },
  {
   "cell_type": "code",
   "execution_count": 4,
   "metadata": {},
   "outputs": [],
   "source": [
    "# Create mapping between Original Target Classes and Encoded Target Classes to show prediction in categorical form.\n",
    "class_mapping = {}\n",
    "\n",
    "for num, label in zip((data[:,-1].astype('int')), (dataset[:,-1])):\n",
    "    class_mapping[num] = label"
   ]
  },
  {
   "cell_type": "code",
   "execution_count": 5,
   "metadata": {},
   "outputs": [],
   "source": [
    "# Features variables - Taste, Temperature & Texture\n",
    "features = data[:,0:-1]\n",
    "\n",
    "# Target/Dependent Variable - Gender\n",
    "targets = data[:,-1]"
   ]
  },
  {
   "cell_type": "code",
   "execution_count": 6,
   "metadata": {},
   "outputs": [],
   "source": [
    "# Split Sample Data into features and test training set.\n",
    "feature_train, feature_test, target_train, target_test = train_test_split(features, targets,test_size=.10)\n"
   ]
  },
  {
   "cell_type": "code",
   "execution_count": 7,
   "metadata": {},
   "outputs": [],
   "source": [
    "#Problem - Should I eat if taste is salty, temperature is hot and texture is hard?\n",
    "guess = np.array([['Salty','Hot','Hard']])"
   ]
  },
  {
   "cell_type": "code",
   "execution_count": 8,
   "metadata": {},
   "outputs": [],
   "source": [
    "# Train the Model\n",
    "model = RandomForestClassifier(n_estimators = 1000, max_features = 'sqrt')\n",
    "fitted  = model.fit(feature_train, target_train)"
   ]
  },
  {
   "cell_type": "code",
   "execution_count": 9,
   "metadata": {},
   "outputs": [],
   "source": [
    "# Predict Gender\n",
    "predictions = fitted.predict( enc.transform(guess) )"
   ]
  },
  {
   "cell_type": "code",
   "execution_count": 10,
   "metadata": {},
   "outputs": [
    {
     "name": "stdout",
     "output_type": "stream",
     "text": [
      "Should I eat if taste is Salty, temperature is Hot and texture is Hard ? - Yes\n"
     ]
    }
   ],
   "source": [
    "#output\n",
    "predictions_labels = [class_mapping[key] for key in predictions]\n",
    "print(\"Should I eat if taste is %s, temperature is %s and texture is %s ? - %s\" % (guess[0][0],guess[0][1],guess[0][2],predictions_labels[0]))"
   ]
  },
  {
   "cell_type": "code",
   "execution_count": null,
   "metadata": {},
   "outputs": [],
   "source": []
  }
 ],
 "metadata": {
  "kernelspec": {
   "display_name": "Python 3",
   "language": "python",
   "name": "python3"
  },
  "language_info": {
   "codemirror_mode": {
    "name": "ipython",
    "version": 3
   },
   "file_extension": ".py",
   "mimetype": "text/x-python",
   "name": "python",
   "nbconvert_exporter": "python",
   "pygments_lexer": "ipython3",
   "version": "3.6.7"
  }
 },
 "nbformat": 4,
 "nbformat_minor": 2
}
